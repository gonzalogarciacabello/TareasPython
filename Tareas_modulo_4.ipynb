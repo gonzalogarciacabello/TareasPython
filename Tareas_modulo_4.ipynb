{
  "nbformat": 4,
  "nbformat_minor": 0,
  "metadata": {
    "colab": {
      "provenance": [],
      "collapsed_sections": [],
      "include_colab_link": true
    },
    "kernelspec": {
      "name": "python3",
      "display_name": "Python 3"
    },
    "language_info": {
      "name": "python"
    }
  },
  "cells": [
    {
      "cell_type": "markdown",
      "metadata": {
        "id": "view-in-github",
        "colab_type": "text"
      },
      "source": [
        "<a href=\"https://colab.research.google.com/github/gonzalogarciacabello/TareasPython/blob/main/Tareas_modulo_4.ipynb\" target=\"_parent\"><img src=\"https://colab.research.google.com/assets/colab-badge.svg\" alt=\"Open In Colab\"/></a>"
      ]
    },
    {
      "cell_type": "markdown",
      "source": [
        "---\n",
        "\n",
        "<b> Ejercicio 1</b>\n",
        "\n",
        "use un bucle **for** para imprimir los números del 1 al 20, inclusive.\n"
      ],
      "metadata": {
        "id": "v8l2iiax3w6L"
      }
    },
    {
      "cell_type": "code",
      "source": [
        "for i in range(1,21):\n",
        "  print(i)\n"
      ],
      "metadata": {
        "id": "fkH-hgZSjc16"
      },
      "execution_count": null,
      "outputs": []
    },
    {
      "cell_type": "code",
      "source": [
        "numbers = list(range(1, 21))\n",
        "print(numbers)\n"
      ],
      "metadata": {
        "id": "hJIe97D8jgwA",
        "colab": {
          "base_uri": "https://localhost:8080/"
        },
        "outputId": "4a15fd02-c9cb-4f54-e170-89946d38a45d"
      },
      "execution_count": 122,
      "outputs": [
        {
          "output_type": "stream",
          "name": "stdout",
          "text": [
            "[1, 2, 3, 4, 5, 6, 7, 8, 9, 10, 11, 12, 13, 14, 15, 16, 17, 18, 19, 20]\n"
          ]
        }
      ]
    },
    {
      "cell_type": "markdown",
      "source": [
        "---\n",
        "\n",
        "<b> Ejercicio 2</b>\n",
        "\n",
        "Haga una lista de los números del uno al millón y luego use un ciclo for para imprimir los números. (Si la salida tarda demasiado, deténgala presionando CTRL-C o cerrando la ventana de salida).\n"
      ],
      "metadata": {
        "id": "rYzzJUd64HR1"
      }
    },
    {
      "cell_type": "code",
      "source": [
        "num = [value for value in range(1, 101)]\n",
        "\n",
        "for n in num:\n",
        "  print(n)"
      ],
      "metadata": {
        "id": "-huF8HcCkxvR"
      },
      "execution_count": null,
      "outputs": []
    },
    {
      "cell_type": "code",
      "source": [
        "numeros = list(range(1, 101))\n",
        "\n",
        "for num in numeros:\n",
        "  print(num)"
      ],
      "metadata": {
        "id": "NSU0W3g7k6t5"
      },
      "execution_count": null,
      "outputs": []
    },
    {
      "cell_type": "code",
      "source": [
        "numeros = []\n",
        "\n",
        "for i in range(1,10**2+1):\n",
        "  print(i)\n",
        "\n"
      ],
      "metadata": {
        "id": "pq9Tx4w-lD4r"
      },
      "execution_count": null,
      "outputs": []
    },
    {
      "cell_type": "markdown",
      "source": [
        "---\n",
        "\n",
        "<b> Ejercicio 3</b>\n",
        "\n",
        "Haga una lista de los números del uno al millón y luego use min() y max() para asegurarse de que su lista realmente comience en uno y termine en un millón. Además, use la función sum() para ver qué tan rápido Python puede agregar un millón de números.\n"
      ],
      "metadata": {
        "id": "2qrKdPpb4chR"
      }
    },
    {
      "cell_type": "code",
      "source": [
        "numeros = list(range(1,1000001))"
      ],
      "metadata": {
        "id": "xZ1CZZ9Rl9hE"
      },
      "execution_count": 124,
      "outputs": []
    },
    {
      "cell_type": "code",
      "source": [
        "min(numeros)"
      ],
      "metadata": {
        "id": "z5jDqB5wmE0b",
        "colab": {
          "base_uri": "https://localhost:8080/"
        },
        "outputId": "aa2d1cbe-2d22-4a64-857d-a0e4080fadae"
      },
      "execution_count": 125,
      "outputs": [
        {
          "output_type": "execute_result",
          "data": {
            "text/plain": [
              "1"
            ]
          },
          "metadata": {},
          "execution_count": 125
        }
      ]
    },
    {
      "cell_type": "code",
      "source": [
        "max(numeros)"
      ],
      "metadata": {
        "id": "zjFviR45viyB",
        "colab": {
          "base_uri": "https://localhost:8080/"
        },
        "outputId": "b4313480-9bd2-4e7a-88f6-d330167c564e"
      },
      "execution_count": 126,
      "outputs": [
        {
          "output_type": "execute_result",
          "data": {
            "text/plain": [
              "1000000"
            ]
          },
          "metadata": {},
          "execution_count": 126
        }
      ]
    },
    {
      "cell_type": "code",
      "source": [
        "sum(numeros)"
      ],
      "metadata": {
        "id": "LOihy3O0vmHL",
        "colab": {
          "base_uri": "https://localhost:8080/"
        },
        "outputId": "90ec6973-3acb-434f-fd31-ec4d0a1115ef"
      },
      "execution_count": 127,
      "outputs": [
        {
          "output_type": "execute_result",
          "data": {
            "text/plain": [
              "500000500000"
            ]
          },
          "metadata": {},
          "execution_count": 127
        }
      ]
    },
    {
      "cell_type": "markdown",
      "source": [
        "---\n",
        "\n",
        "<b> Ejercicio 4</b>\n",
        "\n",
        "Use el tercer argumento de la función range() para hacer una lista de los números impares del 1 al 20. Use un bucle for para imprimir cada número.\n"
      ],
      "metadata": {
        "id": "oizdiWqQ44qx"
      }
    },
    {
      "cell_type": "code",
      "source": [
        "numeros = [valor for valor in range(1,21,2)]\n",
        "for a in numeros:\n",
        "  print (a)"
      ],
      "metadata": {
        "id": "jaEAAWKJnVI2",
        "colab": {
          "base_uri": "https://localhost:8080/"
        },
        "outputId": "4bebcc28-c9d7-42e9-9327-3609f0ac4070"
      },
      "execution_count": 128,
      "outputs": [
        {
          "output_type": "stream",
          "name": "stdout",
          "text": [
            "1\n",
            "3\n",
            "5\n",
            "7\n",
            "9\n",
            "11\n",
            "13\n",
            "15\n",
            "17\n",
            "19\n"
          ]
        }
      ]
    },
    {
      "cell_type": "markdown",
      "source": [
        "---\n",
        "\n",
        "<b> Ejercicio 5</b>\n",
        "\n",
        "Haga una lista de los múltiplos de 3 de 3 a 30. Use un ciclo for para imprimir los números en su lista.\n"
      ],
      "metadata": {
        "id": "yK9dmJJi5W6W"
      }
    },
    {
      "cell_type": "code",
      "source": [
        "'No es la solución final'\n",
        "squares = [value for value in range(3, 31,3)]\n",
        "#print(squares)\n",
        "for i in squares:\n",
        "  print(f\"{i}\")\n"
      ],
      "metadata": {
        "id": "YKNpINGyn1u9",
        "colab": {
          "base_uri": "https://localhost:8080/"
        },
        "outputId": "ac7eca6a-2223-40fa-8dd3-a32a4da70503"
      },
      "execution_count": 129,
      "outputs": [
        {
          "output_type": "stream",
          "name": "stdout",
          "text": [
            "3\n",
            "6\n",
            "9\n",
            "12\n",
            "15\n",
            "18\n",
            "21\n",
            "24\n",
            "27\n",
            "30\n"
          ]
        }
      ]
    },
    {
      "cell_type": "code",
      "source": [
        "for i in range(1,31):\n",
        "  if i%3==0:\n",
        "    print(i)\n",
        "  else:\n",
        "    continue\n"
      ],
      "metadata": {
        "id": "6rDD0rJeoMBO",
        "colab": {
          "base_uri": "https://localhost:8080/"
        },
        "outputId": "d350d974-24d2-4335-c90a-ecfb5623ca4f"
      },
      "execution_count": 130,
      "outputs": [
        {
          "output_type": "stream",
          "name": "stdout",
          "text": [
            "3\n",
            "6\n",
            "9\n",
            "12\n",
            "15\n",
            "18\n",
            "21\n",
            "24\n",
            "27\n",
            "30\n"
          ]
        }
      ]
    },
    {
      "cell_type": "code",
      "source": [
        "multiplos = list(range(3, 31))\n",
        "for i in multiplos:\n",
        "  if i % 3 == 0:\n",
        "    print(i)\n"
      ],
      "metadata": {
        "id": "bV8GjeOqpd5n",
        "colab": {
          "base_uri": "https://localhost:8080/"
        },
        "outputId": "12eef93d-499d-4231-fbc7-d0bcdb373aec"
      },
      "execution_count": 131,
      "outputs": [
        {
          "output_type": "stream",
          "name": "stdout",
          "text": [
            "3\n",
            "6\n",
            "9\n",
            "12\n",
            "15\n",
            "18\n",
            "21\n",
            "24\n",
            "27\n",
            "30\n"
          ]
        }
      ]
    },
    {
      "cell_type": "markdown",
      "source": [
        "---\n",
        "\n",
        "<b> Ejercicio 6</b>\n",
        "\n",
        "Haga una lista de los primeros 10 cubos (es decir, el cubo de cada número entero del 1 al 10) y use un ciclo for para imprimir el valor de cada cubo.\n"
      ],
      "metadata": {
        "id": "qqdPT25k5d23"
      }
    },
    {
      "cell_type": "code",
      "source": [
        "cubos = [entero**3 for entero in range(1,11)]\n",
        "for cubo in cubos:\n",
        "  print(cubo)\n"
      ],
      "metadata": {
        "id": "MXM4p-ndrFZu",
        "colab": {
          "base_uri": "https://localhost:8080/"
        },
        "outputId": "3d81764e-5bd6-498b-9eda-7c255a683760"
      },
      "execution_count": 132,
      "outputs": [
        {
          "output_type": "stream",
          "name": "stdout",
          "text": [
            "1\n",
            "8\n",
            "27\n",
            "64\n",
            "125\n",
            "216\n",
            "343\n",
            "512\n",
            "729\n",
            "1000\n"
          ]
        }
      ]
    },
    {
      "cell_type": "code",
      "source": [
        "cubos = [value**3 for value in range(1, 11)]\n",
        "print(cubos)\n"
      ],
      "metadata": {
        "id": "l0Ivm0yoshiH",
        "colab": {
          "base_uri": "https://localhost:8080/"
        },
        "outputId": "07429943-2313-4321-f6e5-cb9b2b11571a"
      },
      "execution_count": 133,
      "outputs": [
        {
          "output_type": "stream",
          "name": "stdout",
          "text": [
            "[1, 8, 27, 64, 125, 216, 343, 512, 729, 1000]\n"
          ]
        }
      ]
    },
    {
      "cell_type": "markdown",
      "source": [
        "---\n",
        "\n",
        "<b> Ejercicio 7</b>\n",
        "\n",
        "Use una lista de comprensión para generar una lista de los primeros 10 cubos.\n",
        "\n",
        "---"
      ],
      "metadata": {
        "id": "MQfhaTOo59GS"
      }
    },
    {
      "cell_type": "code",
      "source": [
        "cubos = [entero**3 for entero in range(1, 11)]\n",
        "print(cubos)"
      ],
      "metadata": {
        "id": "8wn0LK8_s9JO",
        "colab": {
          "base_uri": "https://localhost:8080/"
        },
        "outputId": "900fa4a7-0285-4c84-b1ea-7a59fc1bc589"
      },
      "execution_count": 134,
      "outputs": [
        {
          "output_type": "stream",
          "name": "stdout",
          "text": [
            "[1, 8, 27, 64, 125, 216, 343, 512, 729, 1000]\n"
          ]
        }
      ]
    },
    {
      "cell_type": "markdown",
      "source": [
        "---\n",
        "\n",
        "<b> Ejercicio 1</b>\n",
        "\n",
        "Utilizando alguna lista definida anteriormente:\n",
        "\n",
        "*   Imprima el mensaje **Los tres primeros elementos de la lista son:**. Luego use un slice para imprimir los primeros tres elementos de la lista de ese programa.\n",
        "\n",
        "*   Imprima el mensaje **Tres elementos de la mitad de la lista son:**. Use un slice para imprimir tres elementos del medio de la lista.\n",
        "\n",
        "*   Imprima el mensaje **Los últimos tres elementos de la lista son:**. Utilice un slice para imprimir los últimos tres elementos de la lista."
      ],
      "metadata": {
        "id": "H30p04iC93Ma"
      }
    },
    {
      "cell_type": "code",
      "source": [
        "my_foods = ['pizza', 'falafel', 'carrot cake', 'canoli']\n",
        "\n",
        "\n",
        "print(\"\\nLos tres primeros elementos de la lista son:\")\n",
        "print(my_foods[:3])\n",
        "\n",
        "print(\"\\nTres elementos del medio de la lista son:\")\n",
        "print(my_foods[1:4])\n",
        "\n",
        "print(\"\\nLos tres ultimos elementos de la lista son:\")\n",
        "print(my_foods[-3:])"
      ],
      "metadata": {
        "id": "fcU7-rWNxY_X",
        "colab": {
          "base_uri": "https://localhost:8080/"
        },
        "outputId": "6924fbb3-3e44-4a88-e6c3-e9f015b3fd1e"
      },
      "execution_count": 135,
      "outputs": [
        {
          "output_type": "stream",
          "name": "stdout",
          "text": [
            "\n",
            "Los tres primeros elementos de la lista son:\n",
            "['pizza', 'falafel', 'carrot cake']\n",
            "\n",
            "Tres elementos del medio de la lista son:\n",
            "['falafel', 'carrot cake', 'canoli']\n",
            "\n",
            "Los tres ultimos elementos de la lista son:\n",
            "['falafel', 'carrot cake', 'canoli']\n"
          ]
        }
      ]
    },
    {
      "cell_type": "markdown",
      "source": [
        "---\n",
        "\n",
        "<b> Ejercicio 2</b>\n",
        "\n",
        "Haga una copia de la lista de pizzas y llámela friend_pizzas. Luego, haz lo siguiente:\n",
        "\n",
        "* Agregue una nueva pizza a la lista original.\n",
        "* Agrega una pizza diferente a la lista friend_pizzas.\n",
        "* Demuestra que tienes dos listas separadas. Imprima el mensaje Mis pizzas favoritas son: y luego use un bucle for para imprimir la primera lista. Imprima el mensaje Las pizzas favoritas de mi amigo son: y luego use un bucle for para imprimir la segunda lista. Asegúrese de que cada pizza nueva se almacene en la lista adecuada."
      ],
      "metadata": {
        "id": "0SzOQQ7S_s1U"
      }
    },
    {
      "cell_type": "code",
      "source": [
        "pizzas = ['americana', 'hawaiana', 'peperoni']\n",
        "friend_pizzas = pizzas[:]\n",
        "\n",
        "pizzas.append('italiana')\n",
        "friend_pizzas.append('margarita')\n",
        "\n",
        "print(\"\\nMis pizzas favoritas son:\")\n",
        "for i in pizzas:\n",
        "  print(i)\n",
        "\n",
        "print(\"\\nLas pizzas favoritas de mi amigo son:\")\n",
        "for i in friend_pizzas:\n",
        "  print(i)\n",
        "\n"
      ],
      "metadata": {
        "id": "JjB2NmyGzuId",
        "colab": {
          "base_uri": "https://localhost:8080/"
        },
        "outputId": "3ba82818-1771-45e2-c712-c60cf093347c"
      },
      "execution_count": 136,
      "outputs": [
        {
          "output_type": "stream",
          "name": "stdout",
          "text": [
            "\n",
            "Mis pizzas favoritas son:\n",
            "americana\n",
            "hawaiana\n",
            "peperoni\n",
            "italiana\n",
            "\n",
            "Las pizzas favoritas de mi amigo son:\n",
            "americana\n",
            "hawaiana\n",
            "peperoni\n",
            "margarita\n"
          ]
        }
      ]
    },
    {
      "cell_type": "code",
      "source": [
        "pizzas=['Margaria','Peperoni','Americana','Meat Lover','Hawaina']\n",
        "friends_pizzas = pizzas[:]\n",
        "friends_pizzas.append('Chicken BBQ')\n",
        "\n",
        "for i in pizzas:\n",
        "  print (f'Mis pizzas favoritas son: {i}')\n",
        "\n",
        "for a in friends_pizzas:\n",
        "  print (f'Las pizzas favoritas de mi amigo son: {a}')\n"
      ],
      "metadata": {
        "id": "-ZqNi9kD1npg",
        "colab": {
          "base_uri": "https://localhost:8080/"
        },
        "outputId": "8dcf30a9-ef30-440a-ef82-68ab05044056"
      },
      "execution_count": 137,
      "outputs": [
        {
          "output_type": "stream",
          "name": "stdout",
          "text": [
            "Mis pizzas favoritas son: Margaria\n",
            "Mis pizzas favoritas son: Peperoni\n",
            "Mis pizzas favoritas son: Americana\n",
            "Mis pizzas favoritas son: Meat Lover\n",
            "Mis pizzas favoritas son: Hawaina\n",
            "Las pizzas favoritas de mi amigo son: Margaria\n",
            "Las pizzas favoritas de mi amigo son: Peperoni\n",
            "Las pizzas favoritas de mi amigo son: Americana\n",
            "Las pizzas favoritas de mi amigo son: Meat Lover\n",
            "Las pizzas favoritas de mi amigo son: Hawaina\n",
            "Las pizzas favoritas de mi amigo son: Chicken BBQ\n"
          ]
        }
      ]
    },
    {
      "cell_type": "markdown",
      "source": [
        "---\n",
        "\n",
        "<b> Ejercicio 1</b>\n",
        "\n",
        "Un restaurante estilo buffet ofrece solo cinco alimentos básicos. Piense en cinco alimentos simples y guárdelos en una tupla.\n",
        "\n",
        "* Use un bucle for para imprimir cada comida que ofrece el restaurante.\n",
        "Intente modificar uno de los elementos y asegúrese de que Python rechace el cambio.\n",
        "* El restaurante cambia su menú, reemplazando dos de los artículos con comidas diferentes. Agregue una línea que reescriba la tupla y luego use un ciclo for para imprimir cada uno de los elementos en el menú revisado.\n",
        "\n",
        "---"
      ],
      "metadata": {
        "id": "WHk9FL9lDtBY"
      }
    },
    {
      "cell_type": "code",
      "source": [
        "buffet = ('Chaufa','Chicharrón de chancho.','Estofado.','Tallarines','Seco de carne')\n",
        "print(\"\\nLos alimentos básicos que ofrece este restaurante son:\")\n",
        "print(\" \")\n",
        "for i in buffet:\n",
        "    print(i)"
      ],
      "metadata": {
        "id": "bUrH-QKbqR6t",
        "colab": {
          "base_uri": "https://localhost:8080/"
        },
        "outputId": "4840936b-2a0d-479d-9285-c477003822c7"
      },
      "execution_count": 138,
      "outputs": [
        {
          "output_type": "stream",
          "name": "stdout",
          "text": [
            "\n",
            "Los alimentos básicos que ofrece este restaurante son:\n",
            " \n",
            "Chaufa\n",
            "Chicharrón de chancho.\n",
            "Estofado.\n",
            "Tallarines\n",
            "Seco de carne\n"
          ]
        }
      ]
    },
    {
      "cell_type": "code",
      "source": [
        "buffet[0] = 'Causa Rellena'"
      ],
      "metadata": {
        "id": "sTwjYDqSrAbd"
      },
      "execution_count": null,
      "outputs": []
    },
    {
      "cell_type": "code",
      "source": [
        "buffet = ('Chaufa','Escabeche','Arroz a la Jardinera','Tallarines','Seco de carne')\n",
        "print(\"\\nLos alimentos básicos que ofrece este restaurante son:\")\n",
        "print(\" \")\n",
        "for i in buffet:\n",
        "  print(i)"
      ],
      "metadata": {
        "id": "V17DiDayrHzS",
        "colab": {
          "base_uri": "https://localhost:8080/"
        },
        "outputId": "c5e42638-b7cc-4a7f-f791-caf61a5c6119"
      },
      "execution_count": 141,
      "outputs": [
        {
          "output_type": "stream",
          "name": "stdout",
          "text": [
            "\n",
            "Los alimentos básicos que ofrece este restaurante son:\n",
            " \n",
            "Chaufa\n",
            "Escabeche\n",
            "Arroz a la Jardinera\n",
            "Tallarines\n",
            "Seco de carne\n"
          ]
        }
      ]
    },
    {
      "cell_type": "markdown",
      "source": [
        "---\n",
        "\n",
        "<b> Ejercicio 1</b>\n",
        "\n",
        "Usa un diccionario para almacenar información sobre una persona que conoces. Almacene su nombre, apellido, edad y la ciudad en la que vive. Debe tener claves como nombre, apellido, edad y ciudad. Imprima cada parte de información almacenada en su diccionario.\n",
        "\n"
      ],
      "metadata": {
        "id": "ctXa-OLlQaXn"
      }
    },
    {
      "cell_type": "code",
      "source": [
        "persona = {'nombre':'Gonzalo','apellido' : 'Garcia','edad':28,'ciudad':'Lima'}\n",
        "print(persona['nombre'])\n",
        "print(persona['apellido'])\n",
        "print(persona['edad'])\n",
        "print(persona['ciudad'])"
      ],
      "metadata": {
        "id": "ihW9LmFH0zEV",
        "colab": {
          "base_uri": "https://localhost:8080/"
        },
        "outputId": "68f9a56d-f659-42f3-e7ee-9402f1983211"
      },
      "execution_count": 142,
      "outputs": [
        {
          "output_type": "stream",
          "name": "stdout",
          "text": [
            "Gonzalo\n",
            "Garcia\n",
            "28\n",
            "Lima\n"
          ]
        }
      ]
    },
    {
      "cell_type": "markdown",
      "source": [
        "---\n",
        "\n",
        "<b> Ejercicio 2</b>\n",
        "\n",
        "Use un diccionario para almacenar los números favoritos de las personas. Piensa en cinco nombres y utilízalos como llaves en tu diccionario. Piense en un número favorito para cada persona y guárdelo como un valor en su diccionario. Escriba el nombre de cada persona y su número favorito. \n",
        "\n"
      ],
      "metadata": {
        "id": "7_krS5iiQ7KW"
      }
    },
    {
      "cell_type": "code",
      "source": [
        "Numerosfavoritos = {'Alberto': 14, 'Braulio': 45,'Cesar':21,'Dario':67,'Eladio':34}\n",
        "for i in Numerosfavoritos:\n",
        "  print(f'El número favorito de {i} es: {Numerosfavoritos[i]}')\n",
        "  "
      ],
      "metadata": {
        "id": "LA7H2H1i3EA3",
        "colab": {
          "base_uri": "https://localhost:8080/"
        },
        "outputId": "669ee61a-4881-48c1-d42e-5f7e40bcbd87"
      },
      "execution_count": 143,
      "outputs": [
        {
          "output_type": "stream",
          "name": "stdout",
          "text": [
            "El número favorito de Alberto es: 14\n",
            "El número favorito de Braulio es: 45\n",
            "El número favorito de Cesar es: 21\n",
            "El número favorito de Dario es: 67\n",
            "El número favorito de Eladio es: 34\n"
          ]
        }
      ]
    },
    {
      "cell_type": "markdown",
      "source": [
        "---\n",
        "\n",
        "<b> Ejercicio 3 TAREA </b>\n",
        "\n",
        "Piense en cinco palabras de programación que haya aprendido. Utilice estas palabras como llaves en su glosario y almacene sus significados como valores.\n",
        "\n",
        "Imprima cada palabra y su significado como una salida con un formato ordenado. Puede imprimir la palabra seguida de dos puntos y luego su significado, o imprimir la palabra en una línea y luego imprimir su significado con sangría en una segunda línea. Utilice el carácter de nueva línea (\\n) para insertar una línea en blanco entre cada par de palabra y significado en su salida.\n",
        "\n",
        "---"
      ],
      "metadata": {
        "id": "PmMzWA-nVOOi"
      }
    },
    {
      "cell_type": "code",
      "source": [
        "PalabrasPython = {'Colab': 'Es un producto de Google para escribir código Python', \n",
        "                  'Funcion': 'Son bloques de código que se pueden reutilizar llamando a la funcion',\n",
        "                  'append': 'Agrega un item al final de la lista',\n",
        "                  'Tupla': 'Una colección de datos cuyo orden es inalterable',\n",
        "                  'While': 'Es un bucle que ejecuta un bloque si la condición es verdadera'}\n",
        "for i in PalabrasPython:\n",
        "  print(f'La palabra {i}, significa: {PalabrasPython[i]}.\\n')\n"
      ],
      "metadata": {
        "id": "R5gtWYRC4mlR",
        "colab": {
          "base_uri": "https://localhost:8080/"
        },
        "outputId": "1b19af9a-5cca-493c-d592-e668bac70aa0"
      },
      "execution_count": 144,
      "outputs": [
        {
          "output_type": "stream",
          "name": "stdout",
          "text": [
            "La palabra Colab, significa: Es un producto de Google para escribir código Python.\n",
            "\n",
            "La palabra Funcion, significa: Son bloques de código que se pueden reutilizar llamando a la funcion.\n",
            "\n",
            "La palabra append, significa: Agrega un item al final de la lista.\n",
            "\n",
            "La palabra Tupla, significa: Una colección de datos cuyo orden es inalterable.\n",
            "\n",
            "La palabra While, significa: Es un bucle que ejecuta un bloque si la condición es verdadera.\n",
            "\n"
          ]
        }
      ]
    },
    {
      "cell_type": "markdown",
      "source": [
        "---\n",
        "\n",
        "<b> Ejercicio 1</b>\n",
        "\n",
        "Haga un diccionario que contenga tres ríos principales y el país por el que pasa cada río. Un par clave-valor podría ser 'nilo': 'egipto'.\n",
        "\n",
        "* Use un bucle para imprimir una oración sobre cada río, como El Nilo atraviesa Egipto.\n",
        "* Utilice un bucle para imprimir el nombre de cada río incluido en el diccionario.\n",
        "* Use un bucle para imprimir el nombre de cada país incluido en el diccionario.\n"
      ],
      "metadata": {
        "id": "Ov6u5MxIj2WA"
      }
    },
    {
      "cell_type": "code",
      "source": [
        "rios = {'Rimac':'Peru','Nilo':'Egipto','Danubio':'Austria'}\n",
        "for key,val in rios.items():\n",
        "  print(f\"El {key.title()} atraviesa {val.title()}\\n\")"
      ],
      "metadata": {
        "id": "-1l16wjE-gvd",
        "colab": {
          "base_uri": "https://localhost:8080/"
        },
        "outputId": "d6867520-3e7b-416d-fefe-08c1592c946f"
      },
      "execution_count": 145,
      "outputs": [
        {
          "output_type": "stream",
          "name": "stdout",
          "text": [
            "El Rimac atraviesa Peru\n",
            "\n",
            "El Nilo atraviesa Egipto\n",
            "\n",
            "El Danubio atraviesa Austria\n",
            "\n"
          ]
        }
      ]
    },
    {
      "cell_type": "code",
      "source": [
        "print(\"Rios:\\n\")\n",
        "for key in rios.keys():\n",
        "  print(key)"
      ],
      "metadata": {
        "id": "Swnm439p_EXt",
        "colab": {
          "base_uri": "https://localhost:8080/"
        },
        "outputId": "bce6d248-17d6-460c-8655-07c6456c9ebb"
      },
      "execution_count": 146,
      "outputs": [
        {
          "output_type": "stream",
          "name": "stdout",
          "text": [
            "Rios:\n",
            "\n",
            "Rimac\n",
            "Nilo\n",
            "Danubio\n"
          ]
        }
      ]
    },
    {
      "cell_type": "code",
      "source": [
        "print(\"Paises:\\n\")\n",
        "for val in rios.values():\n",
        "  print(val)"
      ],
      "metadata": {
        "id": "DXPvBGZb-ssm",
        "colab": {
          "base_uri": "https://localhost:8080/"
        },
        "outputId": "c2fd0cda-939c-4dc8-acad-7a5fdf8de889"
      },
      "execution_count": 147,
      "outputs": [
        {
          "output_type": "stream",
          "name": "stdout",
          "text": [
            "Paises:\n",
            "\n",
            "Peru\n",
            "Egipto\n",
            "Austria\n"
          ]
        }
      ]
    },
    {
      "cell_type": "markdown",
      "source": [
        "---\n",
        "\n",
        "<b> Ejercicio 2</b>\n",
        "\n",
        "Haz una lista de las personas que deberían participar en la encuesta de idiomas favoritos. Incluye algunos nombres que ya estén en el diccionario y otros que no.\n",
        "Recorra la lista de personas que deberían realizar la encuesta. Si ya han realizado la encuesta, imprima un mensaje agradeciéndoles por responder. Si aún no han realizado la encuesta, imprima un mensaje invitándoles a realizar la encuesta.\n",
        "\n",
        "---"
      ],
      "metadata": {
        "id": "aSr26WfmkSSv"
      }
    },
    {
      "cell_type": "code",
      "source": [
        "persona_1 = {'nombre':'Josue',    'encuesta': 'SI'}\n",
        "persona_2 = {'nombre':'Carlos',   'encuesta': 'NO'}\n",
        "persona_3 = {'nombre':'Pedro',    'encuesta': 'NO'}\n",
        "persona_4 = {'nombre':'Gonzalo',  'encuesta': 'SI'}\n",
        "persona_5 = {'nombre':'Martin',   'encuesta': 'NO'}\n",
        "\n",
        "personas = [persona_1, persona_2, persona_3, persona_4, persona_5]\n",
        "\n",
        "for persona in personas:\n",
        "  if persona['encuesta'] == 'SI':\n",
        "    print(f\"{persona['nombre']}, gracias por responder a la encuesta\\n\")\n",
        "\n",
        "  else:\n",
        "    print(f\"{persona['nombre']}, por favor responder a la encuesta a la brevedad\\n\")"
      ],
      "metadata": {
        "id": "vnHXAOb7IX50",
        "colab": {
          "base_uri": "https://localhost:8080/"
        },
        "outputId": "904b0500-9bea-46a4-a1ff-440b37bcfbd0"
      },
      "execution_count": 148,
      "outputs": [
        {
          "output_type": "stream",
          "name": "stdout",
          "text": [
            "Josue, gracias por responder a la encuesta\n",
            "\n",
            "Carlos, por favor responder a la encuesta a la brevedad\n",
            "\n",
            "Pedro, por favor responder a la encuesta a la brevedad\n",
            "\n",
            "Gonzalo, gracias por responder a la encuesta\n",
            "\n",
            "Martin, por favor responder a la encuesta a la brevedad\n",
            "\n"
          ]
        }
      ]
    },
    {
      "cell_type": "markdown",
      "source": [
        "---\n",
        "\n",
        "<b> Ejercicio 1</b>\n",
        "\n",
        "Cree tres nuevos diccionarios que representen a diferentes personas y almacene los tres diccionarios en una lista llamada personas. Recorra su lista de personas. Mientras recorre la lista, imprima todo lo que sabe sobre cada persona.\n"
      ],
      "metadata": {
        "id": "3JJTjbfhmwks"
      }
    },
    {
      "cell_type": "code",
      "source": [
        "persona_1 = {'nombre':'Juan',    'edad':34}\n",
        "persona_2 = {'nombre':'Carlos',  'edad':41}\n",
        "persona_3 = {'nombre':'Pedro',    'edad':19}\n",
        "personas = [persona_1,persona_2,persona_3]\n",
        "print(personas)\n",
        "for persona in personas:\n",
        "  print(f\"\\nHola mi nombre es {persona['nombre']} y tengo {persona['edad']} años.\")"
      ],
      "metadata": {
        "id": "I2h_jIryHdgx",
        "colab": {
          "base_uri": "https://localhost:8080/"
        },
        "outputId": "5d038552-748d-4455-9b6b-b726a63297ef"
      },
      "execution_count": 149,
      "outputs": [
        {
          "output_type": "stream",
          "name": "stdout",
          "text": [
            "[{'nombre': 'Juan', 'edad': 34}, {'nombre': 'Carlos', 'edad': 41}, {'nombre': 'Pedro', 'edad': 19}]\n",
            "\n",
            "Hola mi nombre es Juan y tengo 34 años.\n",
            "\n",
            "Hola mi nombre es Carlos y tengo 41 años.\n",
            "\n",
            "Hola mi nombre es Pedro y tengo 19 años.\n"
          ]
        }
      ]
    },
    {
      "cell_type": "markdown",
      "source": [
        "---\n",
        "\n",
        "<b> Ejercicio 2</b>\n",
        "\n",
        "Haga varios diccionarios, donde cada diccionario represente una mascota diferente. En cada diccionario, incluya el tipo de animal y el nombre del dueño. Guarde estos diccionarios en una lista llamada mascotas. A continuación, recorra su lista y, mientras lo hace, imprima todo lo que sepa sobre cada mascota."
      ],
      "metadata": {
        "id": "oU2XiQHAnAtB"
      }
    },
    {
      "cell_type": "code",
      "source": [
        "animal_1 = {'tipo':'Perro',      'dueño':'David'}\n",
        "animal_2 = {'tipo':'Gato',       'dueño':'Juan'}\n",
        "animal_3 = {'tipo':'Hamster',    'dueño':'Cesar'}\n",
        "animales = [animal_1,animal_2,animal_3]\n",
        "\n",
        "print(animales)\n",
        "for animal in animales:\n",
        "  print(f\"\\nHola, soy {animal['dueño']} y tengo como mascota a un {animal['tipo']}.\")"
      ],
      "metadata": {
        "id": "oAns1zkqIokq",
        "colab": {
          "base_uri": "https://localhost:8080/"
        },
        "outputId": "c0fe5d69-feb8-43a9-ec5a-fc2edd97d6c4"
      },
      "execution_count": 150,
      "outputs": [
        {
          "output_type": "stream",
          "name": "stdout",
          "text": [
            "[{'tipo': 'Perro', 'dueño': 'David'}, {'tipo': 'Gato', 'dueño': 'Juan'}, {'tipo': 'Hamster', 'dueño': 'Cesar'}]\n",
            "\n",
            "Hola, soy David y tengo como mascota a un Perro.\n",
            "\n",
            "Hola, soy Juan y tengo como mascota a un Gato.\n",
            "\n",
            "Hola, soy Cesar y tengo como mascota a un Hamster.\n"
          ]
        }
      ]
    },
    {
      "cell_type": "markdown",
      "source": [
        "---\n",
        "\n",
        "<b> Ejercicio 3</b>\n",
        "\n",
        "Haga un diccionario llamado lugares_favoritos. Piense en tres nombres para usar como llaves en el diccionario y almacene de uno a tres lugares favoritos para cada persona. Recorre el diccionario e imprime el nombre de cada persona y sus lugares favoritos."
      ],
      "metadata": {
        "id": "YH2BoPpVnMLu"
      }
    },
    {
      "cell_type": "code",
      "source": [
        "lugares_favoritos = {\n",
        "       'Juan': ['Cusco', 'Ica'],\n",
        "       'Maria': ['Tacna', 'Huancayo'],\n",
        "       'Ines': ['Arequipa', 'Puno'],\n",
        "       'Pablo': ['Lima', 'Huaraz'],\n",
        "       }\n",
        "\n",
        "for persona, lugares in lugares_favoritos.items():\n",
        "  print(f\"\\nLos lugares favoritos de {persona} son:\")\n",
        "\n",
        "  for lugar in lugares:\n",
        "    print(f\"\\t{lugar}\")"
      ],
      "metadata": {
        "id": "SaZ2JmKPJhTJ",
        "colab": {
          "base_uri": "https://localhost:8080/"
        },
        "outputId": "a4385a7d-ba59-47eb-bee7-46bafd49bbd9"
      },
      "execution_count": 151,
      "outputs": [
        {
          "output_type": "stream",
          "name": "stdout",
          "text": [
            "\n",
            "Los lugares favoritos de Juan son:\n",
            "\tCusco\n",
            "\tIca\n",
            "\n",
            "Los lugares favoritos de Maria son:\n",
            "\tTacna\n",
            "\tHuancayo\n",
            "\n",
            "Los lugares favoritos de Ines son:\n",
            "\tArequipa\n",
            "\tPuno\n",
            "\n",
            "Los lugares favoritos de Pablo son:\n",
            "\tLima\n",
            "\tHuaraz\n"
          ]
        }
      ]
    },
    {
      "cell_type": "markdown",
      "source": [
        "---\n",
        "\n",
        "<b> Ejercicio 4</b>\n",
        "\n",
        "Haz un diccionario llamado ciudades. Usa los nombres de tres ciudades como llaves en tu diccionario. Cree un diccionario de información sobre cada ciudad e incluya el país en el que se encuentra la ciudad, su población aproximada y un dato sobre esa ciudad. Las claves para el diccionario de cada ciudad deben ser algo como país, población y hecho. Imprime el nombre de cada ciudad y toda la información que tengas almacenada sobre ella."
      ],
      "metadata": {
        "id": "YjkTHXHWnY-y"
      }
    },
    {
      "cell_type": "code",
      "source": [
        "ciudad_1 =  {'nombre' : 'Lima' ,    'pais'  :  'Peru',        'poblacion'   : '11 millones',   'dato'   : 'clima humedo' }\n",
        "ciudad_2 =  {'nombre' : 'Santiago', 'pais'  :  'Chile',       'poblacion'   : '5 millones' ,   'dato'   : 'clima frio'   }\n",
        "ciudad_3 =  {'nombre' : 'Bogota',   'pais'  :  'Colombia',    'poblacion'   : '10 millones',   'dato'   : 'clima calido' }\n",
        "\n",
        "ciudades = [ciudad_1,ciudad_2,ciudad_3]\n",
        "\n",
        "for ciudad in ciudades:\n",
        "  print(f\"{ciudad['nombre']} se encuentra ubicado en        {ciudad['pais']}\")\n",
        "  print(f\"{ciudad['nombre']} tiene una población de         {ciudad['poblacion']}\")\n",
        "  print(f\"{ciudad['nombre']} se caracteriza por tener un    {ciudad['dato']}\\n\")\n"
      ],
      "metadata": {
        "id": "pkNXfW2uK0T9",
        "colab": {
          "base_uri": "https://localhost:8080/"
        },
        "outputId": "751a0b11-0045-4b99-d6ba-7f58dbe5ee2e"
      },
      "execution_count": 152,
      "outputs": [
        {
          "output_type": "stream",
          "name": "stdout",
          "text": [
            "Lima se encuentra ubicado en        Peru\n",
            "Lima tiene una población de         11 millones\n",
            "Lima se caracteriza por tener un    clima humedo\n",
            "\n",
            "Santiago se encuentra ubicado en        Chile\n",
            "Santiago tiene una población de         5 millones\n",
            "Santiago se caracteriza por tener un    clima frio\n",
            "\n",
            "Bogota se encuentra ubicado en        Colombia\n",
            "Bogota tiene una población de         10 millones\n",
            "Bogota se caracteriza por tener un    clima calido\n",
            "\n"
          ]
        }
      ]
    },
    {
      "cell_type": "markdown",
      "source": [
        "---\n",
        "\n",
        "<b> Ejercicio 5</b>\n",
        "\n",
        "Ahora estamos trabajando con ejemplos que son lo suficientemente complejos como para que puedan extenderse de varias maneras. Utilice uno de los programas de este laboratorio y amplíelo agregando nuevas claves y valores, cambiando el contexto del programa o mejorando el formato de la salida.\n",
        "\n",
        "---"
      ],
      "metadata": {
        "id": "hMvNIar-nqAr"
      }
    },
    {
      "cell_type": "code",
      "source": [
        "pizza_1 ={'nombre': 'Margarita',    'precio': '35 soles'}\n",
        "pizza_2 ={'nombre': 'Peperoni',     'precio': '30 soles'}\n",
        "pizza_3 ={'nombre': 'Americana',    'precio': '40 soles'}\n",
        "pizza_4 ={'nombre': 'Meat Lover',   'precio': '45 soles'}\n",
        "pizza_5 ={'nombre': 'Hawaiana',     'precio': '32 soles'}\n",
        "\n",
        "pizzas = [pizza_1, pizza_2, pizza_3, pizza_4, pizza_5]\n",
        "\n",
        "for pizza in pizzas:\n",
        "  print(f\"Mi pizza favorita es: {pizza['nombre']}, y cuesta {pizza['precio']}\")"
      ],
      "metadata": {
        "id": "LsCc6Oe_u6n8",
        "colab": {
          "base_uri": "https://localhost:8080/"
        },
        "outputId": "3fbcd07a-4798-4b74-d089-4376cefe8919"
      },
      "execution_count": 153,
      "outputs": [
        {
          "output_type": "stream",
          "name": "stdout",
          "text": [
            "Mi pizza favorita es: Margarita, y cuesta 35 soles\n",
            "Mi pizza favorita es: Peperoni, y cuesta 30 soles\n",
            "Mi pizza favorita es: Americana, y cuesta 40 soles\n",
            "Mi pizza favorita es: Meat Lover, y cuesta 45 soles\n",
            "Mi pizza favorita es: Hawaiana, y cuesta 32 soles\n"
          ]
        }
      ]
    },
    {
      "cell_type": "markdown",
      "source": [
        "---\n",
        "\n",
        "# Gracias por completar este laboratorio!\n",
        "\n",
        "---\n"
      ],
      "metadata": {
        "id": "LY_03M0BoJZQ"
      }
    }
  ]
}