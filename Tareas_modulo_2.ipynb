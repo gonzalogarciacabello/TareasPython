{
  "nbformat": 4,
  "nbformat_minor": 0,
  "metadata": {
    "colab": {
      "provenance": [],
      "collapsed_sections": [],
      "include_colab_link": true
    },
    "kernelspec": {
      "name": "python3",
      "display_name": "Python 3"
    },
    "language_info": {
      "name": "python"
    }
  },
  "cells": [
    {
      "cell_type": "markdown",
      "metadata": {
        "id": "view-in-github",
        "colab_type": "text"
      },
      "source": [
        "<a href=\"https://colab.research.google.com/github/gonzalogarciacabello/TareasPython/blob/main/Tareas_modulo_2.ipynb\" target=\"_parent\"><img src=\"https://colab.research.google.com/assets/colab-badge.svg\" alt=\"Open In Colab\"/></a>"
      ]
    },
    {
      "cell_type": "markdown",
      "source": [
        "<h1 align=center><font size = 5>UNIDAD II - ESTRUCTURAS SELECTIVAS Y REPETITIVAS\n",
        "</font></h1>\n",
        "\n",
        "---"
      ],
      "metadata": {
        "id": "XJ-qSpecBnPA"
      }
    },
    {
      "cell_type": "markdown",
      "source": [
        "<b> Ejercicio 1</b>\n",
        "\n",
        "Imagina que un extraterrestre acaba de ser derribado en un juego. Cree una variable llamada alien_color y asígnele un valor de 'verde', 'amarillo' o 'rojo'.\n",
        "\n",
        "Escribe una declaración if para probar si el color del extraterrestre es verde. Si es así, imprime un mensaje de que el jugador acaba de ganar 5 puntos."
      ],
      "metadata": {
        "id": "Y-WZOmge-ddV"
      }
    },
    {
      "cell_type": "code",
      "source": [
        "colores_del_alien = ['verde', 'amarillo', 'rojo']\n",
        "alien_color = str(input('Escriba el color del extraterrestre '))\n",
        "\n",
        "if alien_color in colores_del_alien:\n",
        "   print(f\"{alien_color.title()}, ¡Correcto! Acabas de ganar 5 puntos.\")\n",
        "else: \n",
        "  print(f\"{alien_color.title()}, no es el color del extraterrestre, sigue intentando.\")"
      ],
      "metadata": {
        "id": "TieYK2QaX1fB",
        "colab": {
          "base_uri": "https://localhost:8080/"
        },
        "outputId": "39e746f9-8502-42cd-cdc9-0e05e32ce861"
      },
      "execution_count": null,
      "outputs": [
        {
          "output_type": "stream",
          "name": "stdout",
          "text": [
            "Escriba el color del extraterrestre rojo\n",
            "Rojo, ¡Correcto! Acabas de ganar 5 puntos.\n"
          ]
        }
      ]
    },
    {
      "cell_type": "markdown",
      "source": [
        "<b> Ejercicio 2</b>\n",
        "\n",
        "Elija un color para un extraterrestre como lo hizo en el Ejercicio anterior y escriba una cadena if-else.\n",
        "\n",
        "Si el alienígena es verde, imprime un mensaje de que el jugador obtuvo 5 puntos.\n",
        "Si el alienígena es amarillo, imprime un mensaje de que el jugador obtuvo 10 puntos.\n",
        "Si el alienígena es rojo, imprime un mensaje de que el jugador obtuvo 15 puntos."
      ],
      "metadata": {
        "id": "fe2t6tUu-_sX"
      }
    },
    {
      "cell_type": "code",
      "source": [
        "alien_color = str(input('Escriba el color del extraterrestre '))\n",
        "\n",
        "if alien_color == 'verde':\n",
        "   print(f\"{alien_color.title()}, ¡Correcto! Acabas de ganar 5 puntos.\")\n",
        "elif alien_color == 'amarillo':\n",
        "   print(f\"{alien_color.title()}, ¡Correcto! Acabas de ganar 10 puntos.\")\n",
        "elif alien_color == 'rojo':\n",
        "   print(f\"{alien_color.title()}, ¡Correcto! Acabas de ganar 15 puntos.\")\n",
        "\n",
        "else: \n",
        "  print(f\"{alien_color.title()}, no es el color del extraterrestre, sigue intentando.\")"
      ],
      "metadata": {
        "id": "U_pKfUluYxTX",
        "colab": {
          "base_uri": "https://localhost:8080/"
        },
        "outputId": "0bb85bcd-bb48-423d-ae9b-938b962bdd02"
      },
      "execution_count": null,
      "outputs": [
        {
          "output_type": "stream",
          "name": "stdout",
          "text": [
            "Escriba el color del extraterrestre amarillo\n",
            "Amarillo, ¡Correcto! Acabas de ganar 10 puntos.\n"
          ]
        }
      ]
    },
    {
      "cell_type": "markdown",
      "source": [
        "**TAREA**"
      ],
      "metadata": {
        "id": "tjx_BLi3G3_T"
      }
    },
    {
      "cell_type": "markdown",
      "source": [
        "<b> Ejercicio 1</b>\n",
        "\n",
        "Escriba un ciclo que solicite al usuario que ingrese una serie de ingredientes para la pizza hasta que ingrese un valor de 'salir'. A medida que ingresen cada ingrediente, imprima un mensaje que diga que agregará ese ingrediente a su pizza."
      ],
      "metadata": {
        "id": "NzzH8uoCFAMM"
      }
    },
    {
      "cell_type": "code",
      "source": [
        "prompt = \"\\nIngrese el ingrediente de su pizza:\"\n",
        "prompt += \"\\nEscribe 'salir' para finalizar. \"\n",
        "\n",
        "while True:\n",
        "  ingrediente = input(prompt)\n",
        "  if ingrediente == 'salir':\n",
        "    break\n",
        "  else:\n",
        "    print(f\"Se agregará {ingrediente.title()} a su pizza!\")"
      ],
      "metadata": {
        "id": "1EyME1k856Pt",
        "colab": {
          "base_uri": "https://localhost:8080/"
        },
        "outputId": "41991ec3-1e2c-4010-d147-42834e6b523c"
      },
      "execution_count": null,
      "outputs": [
        {
          "name": "stdout",
          "output_type": "stream",
          "text": [
            "\n",
            "Ingrese el ingrediente de su pizza:\n",
            "Escribe 'salir' para finalizar. tomate\n",
            "Se agregará Tomate a su pizza!\n",
            "\n",
            "Ingrese el ingrediente de su pizza:\n",
            "Escribe 'salir' para finalizar. queso\n",
            "Se agregará Queso a su pizza!\n",
            "\n",
            "Ingrese el ingrediente de su pizza:\n",
            "Escribe 'salir' para finalizar. salir\n"
          ]
        }
      ]
    },
    {
      "cell_type": "markdown",
      "source": [
        "<b> Ejercicio 2</b>\n",
        "\n",
        "Un cine cobra diferentes precios de boletos dependiendo de la edad de una persona. Si una persona es menor de 3 años, la entrada es gratuita; si son entre 3 y 12, el boleto cuesta s/. 10; y si son mayores de 12 años, el boleto cuesta s/. 15. Escriba un ciclo en el que pregunte a los usuarios su edad y luego dígales el costo de su boleto de cine."
      ],
      "metadata": {
        "id": "ATFL1LTaFDoF"
      }
    },
    {
      "cell_type": "code",
      "source": [
        "edad = float(input('Por favor, ingrese su edad: '))\n",
        "\n",
        "if edad < 3:\n",
        "  price = 0\n",
        "elif edad < 12:\n",
        "  price = 10\n",
        "elif edad >= 12:\n",
        "  price = 15\n",
        "\n",
        "print(f\"El costo de su boleto de cine es S/. {price}.\")"
      ],
      "metadata": {
        "id": "YkTlG4Ej96_j",
        "colab": {
          "base_uri": "https://localhost:8080/"
        },
        "outputId": "08249f02-15ab-4d38-c012-1e671e359118"
      },
      "execution_count": null,
      "outputs": [
        {
          "output_type": "stream",
          "name": "stdout",
          "text": [
            "Por favor, ingrese su edad: 15\n",
            "El costo de su boleto de cine es S/. 15.\n"
          ]
        }
      ]
    },
    {
      "cell_type": "markdown",
      "source": [
        "**TAREA**"
      ],
      "metadata": {
        "id": "cJxdRABnHvyt"
      }
    },
    {
      "cell_type": "markdown",
      "source": [
        "<b> Ejercicio 1</b>\n",
        "\n",
        "\n",
        "Piensa en al menos tres tipos de tu pizza favorita. Almacene estos nombres de pizza en una lista y luego use un ciclo for para imprimir el nombre de cada pizza.\n",
        "\n",
        "Modifique su ciclo for para imprimir una oración usando el nombre de la pizza en lugar de imprimir solo el nombre de la pizza. Para cada pizza, debe tener una línea de salida que contenga una declaración simple como Me gusta la pizza de pepperoni.\n",
        "Agregue una línea al final de su programa, fuera del bucle for, que indique cuánto le gusta la pizza. El resultado debe constar de tres o más líneas sobre los tipos de pizza que te gustan y luego una oración adicional, como ¡Me encanta la pizza!\n"
      ],
      "metadata": {
        "id": "FHwT_HI5Hedh"
      }
    },
    {
      "cell_type": "code",
      "source": [
        "pizzas = ['americana', 'hawaiana', 'peperoni']\n",
        "\n",
        "for pizza in pizzas:\n",
        "    print(f\"La pizza {pizza.title()}, está en el top 3 de las pizzas más populares!\")\n",
        "    print(f\"Esperamos que la pizza {pizza.title()} sea de su agrado.\\n\")\n",
        "\n",
        "print(\"Me encanta la pizza!\")"
      ],
      "metadata": {
        "id": "C4TIwxWgAuOY",
        "colab": {
          "base_uri": "https://localhost:8080/"
        },
        "outputId": "4106c83a-6ba5-45cc-c0eb-477f0c2ad960"
      },
      "execution_count": null,
      "outputs": [
        {
          "output_type": "stream",
          "name": "stdout",
          "text": [
            "La pizza Americana, está en el top 3 de las pizzas más populares!\n",
            "Esperamos que la pizza Americana sea de su agrado.\n",
            "\n",
            "La pizza Hawaiana, está en el top 3 de las pizzas más populares!\n",
            "Esperamos que la pizza Hawaiana sea de su agrado.\n",
            "\n",
            "La pizza Peperoni, está en el top 3 de las pizzas más populares!\n",
            "Esperamos que la pizza Peperoni sea de su agrado.\n",
            "\n",
            "Me encanta la pizza!\n"
          ]
        }
      ]
    },
    {
      "cell_type": "markdown",
      "source": [
        "<b> Ejercicio 2</b>\n",
        "\n",
        "Piensa en al menos tres animales diferentes que tengan una característica común. Guarde los nombres de estos animales en una lista y luego use un ciclo for para imprimir el nombre de cada animal.\n",
        "\n",
        "Modifique su programa para imprimir una declaración sobre cada animal, como Un perro sería una gran mascota.\n",
        "Agregue una línea al final de su programa indicando lo que estos animales tienen en común. Podría escribir una oración como ¡Cualquiera de estos animales sería una gran mascota!"
      ],
      "metadata": {
        "id": "CBNrK6wXHnEm"
      }
    },
    {
      "cell_type": "code",
      "source": [
        "animales = ['perro', 'gato', 'hamster']\n",
        "\n",
        "for animal in animales:\n",
        "    print(f\"El {animal.title()}, sería una gran mascota!\")\n",
        "    print(f\"Adopta un {animal.title()}.\\n\")\n",
        "\n",
        "print(\"¡Cualquiera de estos animales sería una gran mascota!\")"
      ],
      "metadata": {
        "id": "227HRoUVBaJs",
        "colab": {
          "base_uri": "https://localhost:8080/"
        },
        "outputId": "c16fd98a-b80c-4c82-c008-419790055b62"
      },
      "execution_count": null,
      "outputs": [
        {
          "output_type": "stream",
          "name": "stdout",
          "text": [
            "El Perro, sería una gran mascota!\n",
            "Adopta un Perro.\n",
            "\n",
            "El Gato, sería una gran mascota!\n",
            "Adopta un Gato.\n",
            "\n",
            "El Hamster, sería una gran mascota!\n",
            "Adopta un Hamster.\n",
            "\n",
            "¡Cualquiera de estos animales sería una gran mascota!\n"
          ]
        }
      ]
    },
    {
      "cell_type": "markdown",
      "source": [
        "---\n",
        "\n",
        "# Gracias por completar este laboratorio!\n",
        "\n",
        "---\n"
      ],
      "metadata": {
        "id": "Z8TPfkHyH_D5"
      }
    }
  ]
}